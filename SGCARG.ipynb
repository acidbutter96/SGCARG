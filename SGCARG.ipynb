{
 "cells": [
  {
   "cell_type": "markdown",
   "metadata": {},
   "source": [
    "Para fazer uma avaliação sobre os conhecimentos de Python, segue um breve exercício que simula o cálculo de cotas e retornos de uma carteira hipotética.\n",
    "\n",
    "Para executar este código recomendamos o uso do Python seja no jupyter notebook ou jupyter lab.\n",
    "Isso pode ser feito online, sem ter instalado o software no endereço:\n",
    "https://jupyter.org/try\n",
    "\n",
    "necessitando fazer upload dos arquivos no site\n",
    "\n"
   ]
  },
  {
   "cell_type": "code",
   "execution_count": null,
   "metadata": {},
   "outputs": [],
   "source": [
    "import pandas as pd\n",
    "import numpy as np\n",
    "from datetime import datetime\n"
   ]
  },
  {
   "cell_type": "code",
   "execution_count": null,
   "metadata": {},
   "outputs": [],
   "source": [
    "#Carrega informações\n",
    "\n",
    "#cota\n",
    "COTA=pd.read_csv('COTA.csv',delimiter=';')\n",
    "COTA['DATA']= pd.to_datetime(COTA['DATA'])\n",
    "\n",
    "#histórico de operações de compra e venda\n",
    "OPERACOES=pd.read_csv('OPERACOES.csv',delimiter=';')\n",
    "OPERACOES['DATA']= pd.to_datetime(OPERACOES['DATA'], format=\"%d/%m/%Y\")\n",
    "\n",
    "#movimentações de conta corrente depósitos e saques\n",
    "MOV_CC=pd.read_csv('CONTAC.csv',delimiter=';')\n",
    "MOV_CC['DATA']= pd.to_datetime(MOV_CC['DATA'], format=\"%d/%m/%Y\")\n",
    "\n",
    "#preços dos ativos\n",
    "PRECOS=pd.read_csv('PRECOS.csv',delimiter=';')\n",
    "PRECOS['DATA']= pd.to_datetime(PRECOS['DATA'], format=\"%d/%m/%Y\")"
   ]
  },
  {
   "cell_type": "markdown",
   "metadata": {},
   "source": [
    "*****************************  QUESTÃO 1  *****************************\n",
    "\n",
    "Temos um problema nesta leitura de dados anterior pois os valores que deveriam ser interpretados como números, com separação **decimal** e de **milhar**, estão sendo interpretados como texto. Todos arquivos tem uma váriavel que deve ser interpretados como float64.\n",
    "Favor corrigir o código acima para q os resultados dos dtypes abaixo sejam:\n",
    "\n",
    "DATA     datetime64[ns]\n",
    "\n",
    "PRECO           float64\n",
    "\n",
    "ATIVO            object\n",
    "\n",
    "dtype: object\n"
   ]
  },
  {
   "cell_type": "code",
   "execution_count": null,
   "metadata": {},
   "outputs": [],
   "source": [
    "PRECOS.dtypes"
   ]
  },
  {
   "cell_type": "code",
   "execution_count": null,
   "metadata": {},
   "outputs": [],
   "source": [
    "#troca sinal da quantidade em ordens de compra (positivo) e venda (negativo) para padronizar como processaremos as ordens\n",
    "\n",
    "for row,i in OPERACOES.iterrows():\n",
    "    if i.MOV=='C':\n",
    "        OPERACOES.loc[row,'QTD']=i.QTD\n",
    "    else:\n",
    "        OPERACOES.loc[row,'QTD']=-i.QTD"
   ]
  },
  {
   "cell_type": "code",
   "execution_count": null,
   "metadata": {},
   "outputs": [],
   "source": [
    "#popula histórico POSICAO\n",
    "#aqui processamos todas as ordens e montamos um histórico de posição dizendo se a carteira estava comprada ou não em um ativo dia a dia\n",
    "\n",
    "POS_AT=pd.DataFrame({'DATA':pd.Series([], dtype='datetime64[ns]'),'ATIVO':pd.Series([], dtype='str'),'POS':pd.Series([], dtype='float')})\n",
    "\n",
    "for row,i in OPERACOES.iterrows():\n",
    "    POS_AT_SW=pd.DataFrame({'DATA':pd.Series([], dtype='datetime64[ns]'),'ATIVO':pd.Series([], dtype='str'),'POS':pd.Series([], dtype='float')})\n",
    "    POS_AT_SW.DATA=PRECOS.loc[(PRECOS.DATA>=i.DATA) & (PRECOS.ATIVO==i.ATIVO)].DATA.unique()\n",
    "    POS_AT_SW.ATIVO=i.ATIVO\n",
    "    POS_AT_SW.POS=i.QTD\n",
    "    POS_AT=POS_AT.append(POS_AT_SW).reset_index(drop=True)\n",
    "\n",
    "POS_AT=POS_AT.groupby(['ATIVO','DATA'],as_index=False).sum()\n"
   ]
  },
  {
   "cell_type": "code",
   "execution_count": null,
   "metadata": {},
   "outputs": [],
   "source": [
    "\n",
    "\n"
   ]
  },
  {
   "cell_type": "code",
   "execution_count": null,
   "metadata": {},
   "outputs": [],
   "source": [
    "#popula histórico da Conta Corrente que deve ter o impacto:\n",
    "# 1 - das movimentações de aplicações e resgates\n",
    "# 2 - das operações de compra e venda de ativos\n",
    "\n",
    "POS_CC=pd.DataFrame({'DATA':pd.Series([], dtype='datetime64[ns]'),'SALDO':pd.Series([], dtype='float')})\n",
    "POS_CC.DATA=MOV_CC.DATA[0:1]\n",
    "POS_CC.SALDO=MOV_CC.MOV[0:1]\n",
    "\n",
    "#POPULA MOVIMENTAÇÕES NA CC\n",
    "for row,i in MOV_CC.iterrows():\n",
    "    POS_CC_SW=pd.DataFrame({'DATA':pd.Series([], dtype='datetime64[ns]'),'SALDO':pd.Series([], dtype='float')})\n",
    "    POS_CC_SW.DATA=PRECOS.loc[PRECOS.DATA>=i.DATA].DATA.unique()\n",
    "    POS_CC_SW.SALDO=i.MOV\n",
    "    POS_CC=POS_CC.append(POS_CC_SW).reset_index(drop=True)\n",
    "    \n",
    "#popula histórico OPERAÇÕES NA CC\n",
    "for row,i in OPERACOES.iterrows():\n",
    "    POS_CC_SW=pd.DataFrame({'DATA':pd.Series([], dtype='datetime64[ns]'),'SALDO':pd.Series([], dtype='float')})\n",
    "    POS_CC_SW.DATA=PRECOS.loc[(PRECOS.DATA>=i.DATA) & (PRECOS.ATIVO==i.ATIVO)].DATA.unique()\n",
    "    POS_CC_SW.SALDO=-i.QTD*i.PRECO\n",
    "    POS_CC=POS_CC.append(POS_CC_SW).reset_index(drop=True)\n",
    "\n",
    "    "
   ]
  },
  {
   "cell_type": "code",
   "execution_count": null,
   "metadata": {},
   "outputs": [],
   "source": [
    "POS_CC.groupby(['DATA']).sum()"
   ]
  },
  {
   "cell_type": "code",
   "execution_count": null,
   "metadata": {},
   "outputs": [],
   "source": [
    "#Preparação para CÁLCULO DO RESULTADO\n",
    "#aqui montamos uma nova tabela para processarmos o resultado diário (PNL=profit and loss)\n",
    "\n",
    "PNL=POS_AT.merge(OPERACOES,how='left',left_on=['DATA','ATIVO'], right_on=['DATA','ATIVO'])\n",
    "PNL=PNL.rename(columns={'PRECO': \"PRECO_MOV\"})\n",
    "PNL=PNL.merge(PRECOS,how='left',left_on=['DATA','ATIVO'], right_on=['DATA','ATIVO'])\n",
    "PNL['PRECOANT']=pd.Series([],dtype='float')\n",
    "for i in PNL.ATIVO.unique():\n",
    "    PNL.loc[PNL.ATIVO==i,'PRECOANT']=PNL.loc[PNL.ATIVO==i].PRECO.shift(periods=1)\n",
    "PNL['POS$']=PNL['POS']*PNL['PRECO']\n",
    "\n",
    "\n",
    "#cálculo do patrimônio diário\n",
    "PATR=pd.concat([PNL[['DATA','POS$']].groupby(['DATA'],as_index=False).sum().rename(columns={'POS$': 'PATR'}),\n",
    "           POS_CC.groupby(['DATA']).sum().rename(columns={'SALDO': 'PATR'})],\n",
    "           ignore_index=True,sort=True).groupby(['DATA'],as_index=False).sum()"
   ]
  },
  {
   "cell_type": "code",
   "execution_count": null,
   "metadata": {},
   "outputs": [],
   "source": [
    "#cálculo da cota diária\n",
    "\n",
    "COTA=COTA.append(PATR,ignore_index=True,sort=False).reset_index(drop=True)\n",
    "COTA.QTD=COTA.iloc[0].QTD\n",
    "COTA.PRECO=COTA.PATR/COTA.QTD\n",
    "\n",
    "#POPULA COTAS com Movimentações de CC \n",
    "for row,i in MOV_CC.iterrows():\n",
    "    if row>0:\n",
    "        COTA.loc[COTA.DATA>=i.DATA,'QTD']=(COTA.loc[COTA.DATA==i.DATA,'QTD'].values[0]+i.MOV/COTA.loc[COTA.DATA.shift(periods=-1)==i.DATA,'PRECO'].values[0])\n",
    "        COTA.PRECO=COTA.PATR/COTA.QTD\n",
    "        "
   ]
  },
  {
   "cell_type": "code",
   "execution_count": null,
   "metadata": {},
   "outputs": [],
   "source": [
    "p=COTA[['DATA','PRECO']].plot(x ='DATA', y='PRECO', kind = 'line')\n"
   ]
  },
  {
   "cell_type": "code",
   "execution_count": null,
   "metadata": {},
   "outputs": [],
   "source": [
    "#CÁLCULO DO RESULTADO\n",
    "\n",
    "PNL=PNL.fillna(0)#preenche vazios com zero\n",
    "PNL=PNL.merge(PATR,how='left',left_on=['DATA'], right_on=['DATA'])#insere coluna com patrimônio diário\n",
    "\n",
    "PNL.head()"
   ]
  },
  {
   "cell_type": "code",
   "execution_count": null,
   "metadata": {},
   "outputs": [],
   "source": [
    "#nesta variável PNL temos para todas as datas, as posições de fechamento dos ativos (POS), \n",
    "#as movimentações (QTD), o preço q a movimentação ocorreu (PRECO_MOV)\n",
    "#preço de fechamento (PRECO) e o  preco do dia anterior (PRECOANT)\n",
    "\n"
   ]
  },
  {
   "cell_type": "markdown",
   "metadata": {},
   "source": [
    "*****************************  QUESTÃO 2  *****************************\n",
    "\n",
    "Faça o Cálculo do Resultado Financeiro na fórmula na célula abaixo.\n",
    "\n",
    "O resultado financeiro da carteira pode ser visto como a soma de duas partes:\n",
    "\n",
    "1 - o resultado da posição que a carteira carrega de um dia para o outro \n",
    "   Exemplo: a carteira tinha 100 ações que passaram de um valor de R 10,00 para R 10,10 de um dia para o outro. \n",
    "   o resultado diário correspondente a essa variação de preço é (10,10 - 10,00) * 100 = 10,00\n",
    "\n",
    "2 - o resultado de alguma movimentação que tenha sido feita na carteira (compra ou venda)\n",
    "   durante o dia comprou-se 100 ações por R 10,00 que encerraram o dia valendo R 9,90\n",
    "   o resultado diário correspondente a esta operação de compra é (9,90 - 10,00)* 100 = -10,00\n",
    "\n",
    "é possivel escrever esta equação que calcula o resultado diário da carteira usando as colunas da variável PNL "
   ]
  },
  {
   "cell_type": "code",
   "execution_count": null,
   "metadata": {},
   "outputs": [],
   "source": [
    "#Cálcule do Resultado Financeiro usando as colunas da variável PNL\n",
    "PNL['PNL$']=\n",
    "\n",
    "\n",
    "\n",
    "\n",
    "\n",
    "\n",
    "PNL[:50]"
   ]
  },
  {
   "cell_type": "code",
   "execution_count": null,
   "metadata": {},
   "outputs": [],
   "source": [
    "#RESULTADO FINANCEIRO \n",
    "#para conferencia o somatório do resultado deve ser:\n",
    "# -493.84000000000185\n",
    "PNL['PNL$'].sum()"
   ]
  },
  {
   "cell_type": "code",
   "execution_count": null,
   "metadata": {},
   "outputs": [],
   "source": [
    "#RESULTADO PERCENTUAL\n",
    "#Cálculo do Resuldado Percentual\n",
    "PNL['PNL']=np.log(1+(PNL['PNL$'])/PNL['PATR'])\n",
    "PNL.PNL.sum()"
   ]
  },
  {
   "cell_type": "markdown",
   "metadata": {},
   "source": [
    "*****************************  QUESTÃO 3  *****************************\n",
    "\n",
    "Usando a variável PNL calcule o resultado Percentual por ATIVO somando os resultados parciais\n",
    "\n",
    "\n",
    "\n"
   ]
  },
  {
   "cell_type": "code",
   "execution_count": null,
   "metadata": {},
   "outputs": [],
   "source": [
    "#RESULTADO POR ATIVO\n",
    "# \n",
    "#ATIVO \tPNL\n",
    "#A \t-0.004516\n",
    "#B \t-0.002706\n",
    "\n",
    "PNL"
   ]
  },
  {
   "cell_type": "code",
   "execution_count": null,
   "metadata": {},
   "outputs": [],
   "source": []
  }
 ],
 "metadata": {
  "kernelspec": {
   "display_name": "Python 3",
   "language": "python",
   "name": "python3"
  },
  "language_info": {
   "codemirror_mode": {
    "name": "ipython",
    "version": 3
   },
   "file_extension": ".py",
   "mimetype": "text/x-python",
   "name": "python",
   "nbconvert_exporter": "python",
   "pygments_lexer": "ipython3",
   "version": "3.6.3"
  }
 },
 "nbformat": 4,
 "nbformat_minor": 2
}
